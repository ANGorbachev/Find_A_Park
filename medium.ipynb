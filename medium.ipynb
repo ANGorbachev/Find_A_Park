{
 "cells": [
  {
   "cell_type": "markdown",
   "id": "ff5c4036-7faf-4505-9a5e-b2be0f67e7e2",
   "metadata": {},
   "source": [
    "## 17 оттенков серого"
   ]
  },
  {
   "cell_type": "code",
   "execution_count": 1,
   "id": "3076507d-367b-481f-bfb0-19873abd4db4",
   "metadata": {},
   "outputs": [],
   "source": [
    "import cv2\n",
    "import numpy as np\n",
    "import matplotlib.pyplot as plt"
   ]
  },
  {
   "cell_type": "code",
   "execution_count": 2,
   "id": "ae5a4f84-385f-4d53-acd1-86d548683915",
   "metadata": {},
   "outputs": [],
   "source": [
    "def viewImage(image):\n",
    "    # cv2.namedWindow('Display', cv2.WINDOW_NORMAL)\n",
    "    # cv2.imshow('Display', image)\n",
    "    # cv2.waitKey(0)\n",
    "    # cv2.destroyAllWindows()\n",
    "    # plt.imshow(image, cmap='gray')\n",
    "    # plt.show()\n",
    "    cv2.namedWindow(winname='my')\n",
    "    while True:\n",
    "        cv2.imshow('my', image)\n",
    "        if cv2.waitKey(1) & 0xFF == 27:\n",
    "            break\n",
    "    cv2.destroyAllWindows()"
   ]
  },
  {
   "cell_type": "code",
   "execution_count": 12,
   "id": "f4654673-2403-4e41-9885-cd12b35669ca",
   "metadata": {},
   "outputs": [],
   "source": [
    "def grayscale_17_levels(image):\n",
    "    high = 255\n",
    "    while True: \n",
    "        low = high - 15\n",
    "        col_to_be_changed_low = np.array([low])\n",
    "        col_to_be_changed_high = np.array([high])\n",
    "        curr_mask = cv2.inRange(gray, col_to_be_changed_low,col_to_be_changed_high)\n",
    "        gray[curr_mask > 0] = (high)\n",
    "        high -= 15\n",
    "        if low == 0:\n",
    "            break"
   ]
  },
  {
   "cell_type": "code",
   "execution_count": 13,
   "id": "df8eec8e-a73f-4545-b878-09e2f3358c8b",
   "metadata": {},
   "outputs": [],
   "source": [
    "image = cv2.imread('ombre_circle_grayscale.png')\n",
    "viewImage(image)\n",
    "gray = cv2.cvtColor(image, cv2.COLOR_BGR2GRAY)\n",
    "grayscale_17_levels(gray)\n",
    "viewImage(gray)"
   ]
  },
  {
   "cell_type": "markdown",
   "id": "6d1982bf-a388-4250-8c37-645995a94ddd",
   "metadata": {},
   "source": [
    "## Оконтуривание и площадь 17ти оттенков серого"
   ]
  },
  {
   "cell_type": "code",
   "execution_count": 15,
   "id": "02b1932c-16a4-42b9-9023-5499d433fcb6",
   "metadata": {},
   "outputs": [],
   "source": [
    "def get_area_of_each_gray_level(im):\n",
    "## преобразование изображения к оттенкам серого (обязательно делается до оконтуривания) \n",
    "    image = cv2.cvtColor(im, cv2.COLOR_BGR2GRAY)\n",
    "    output = []\n",
    "    high = 255\n",
    "    first = True\n",
    "    while True:\n",
    "        low = high - 15\n",
    "        if first == False :\n",
    "            # Делаем значения выше уровня серого черными. \n",
    "            ## Так они не будут обнаруживаться \n",
    "            to_be_black_again_low = np.array([high])\n",
    "            to_be_black_again_high = np.array([255])\n",
    "            curr_mask = cv2.inRange(image, to_be_black_again_low, to_be_black_again_high)\n",
    "            image[curr_mask > 0] = (0)\n",
    "\n",
    "        # Делаем значения этого уровня белыми. Так мы рассчитаем \n",
    "        # их площадь\n",
    "        ret, threshold = cv2.threshold(image, low, 255, 0)\n",
    "        contours, hirerchy = cv2.findContours(threshold, cv2.RETR_LIST, cv2.CHAIN_APPROX_NONE)\n",
    "        if len(contours) > 0:\n",
    "            output.append([cv2.contourArea(contours[0])])\n",
    "            cv2.drawContours(im, contours, -1, (0, 0, 255), 3)\n",
    "        high -= 15\n",
    "        first = False\n",
    "        if low == 0:\n",
    "            break\n",
    "    return output"
   ]
  },
  {
   "cell_type": "code",
   "execution_count": 17,
   "id": "3182f310-adf8-4e98-8ee0-11ec76caec73",
   "metadata": {},
   "outputs": [
    {
     "name": "stdout",
     "output_type": "stream",
     "text": [
      "[[5871.0], [6480.0], [13012.0], [21820.0], [32902.0], [46238.0], [61761.0], [79709.0], [99787.0], [122222.0], [146859.0], [173758.0], [202919.5], [234401.5], [12241.5], [11577.0], [11111.0]]\n"
     ]
    }
   ],
   "source": [
    "image = cv2.imread('ombre_circle_grayscale.png')\n",
    "print(get_area_of_each_gray_level(image))\n",
    "viewImage(image)"
   ]
  },
  {
   "cell_type": "markdown",
   "id": "3ae3c9f6-6eb8-44f6-a4f2-638a093c9e04",
   "metadata": {},
   "source": [
    "## Оконтуривание листа"
   ]
  },
  {
   "cell_type": "code",
   "execution_count": 55,
   "id": "100d7e52-2ff9-4142-8154-e9028f2ad691",
   "metadata": {},
   "outputs": [],
   "source": [
    "image = cv2.imread('leaf.jpg')\n",
    "viewImage(image)"
   ]
  },
  {
   "cell_type": "code",
   "execution_count": 19,
   "id": "438b048b-0473-413b-8794-f4d7daddc0f9",
   "metadata": {},
   "outputs": [
    {
     "name": "stdout",
     "output_type": "stream",
     "text": [
      "[[[ 60 255 255]]]\n"
     ]
    }
   ],
   "source": [
    "## Получаем HSV-представление для зеленого цвета \n",
    "green = np.uint8([[[0, 255, 0 ]]])\n",
    "green_hsv = cv2.cvtColor(green,cv2.COLOR_BGR2HSV)\n",
    "print(green_hsv)"
   ]
  },
  {
   "cell_type": "code",
   "execution_count": 12,
   "id": "8874d600-9080-4bf1-b319-5f5e30dd2f2f",
   "metadata": {},
   "outputs": [],
   "source": [
    "image = cv2.imread('leaf.jpg')\n",
    "hsv_img = cv2.cvtColor(image, cv2.COLOR_BGR2HSV)\n",
    "viewImage(hsv_img) ## 1\n",
    "\n",
    "green_low = np.array([45 , 100, 50] )\n",
    "green_high = np.array([75, 255, 255])\n",
    "curr_mask = cv2.inRange(hsv_img, green_low, green_high)\n",
    "hsv_img[curr_mask > 0] = ([75,255,200])\n",
    "viewImage(hsv_img) ## 2\n",
    "\n",
    "## Преобразование HSV-изображения к оттенкам серого для дальнейшего\n",
    "## оконтуривания\n",
    "RGB_again = cv2.cvtColor(hsv_img, cv2.COLOR_HSV2RGB)\n",
    "gray = cv2.cvtColor(RGB_again, cv2.COLOR_RGB2GRAY)\n",
    "viewImage(gray) ## 3\n",
    "\n",
    "ret, threshold = cv2.threshold(gray, 90, 255, 0)\n",
    "viewImage(threshold) ## 4\n",
    "\n",
    "contours, hierarchy = cv2.findContours(threshold,cv2.RETR_TREE,cv2.CHAIN_APPROX_SIMPLE)\n",
    "cv2.drawContours(image, contours, -1, (0, 0, 255), 3)\n",
    "viewImage(image) ## 5"
   ]
  },
  {
   "cell_type": "code",
   "execution_count": 10,
   "id": "ef0d81fd-770f-41a4-8078-08308cb739db",
   "metadata": {},
   "outputs": [],
   "source": [
    "def findGreatesContour(contours):\n",
    "    largest_area = 0\n",
    "    largest_contour_index = -1\n",
    "    i = 0\n",
    "    total_contours = len(contours)\n",
    "    while (i < total_contours ):\n",
    "        area = cv2.contourArea(contours[i])\n",
    "        if area > largest_area:\n",
    "            largest_area = area\n",
    "            largest_contour_index = i\n",
    "        i += 1\n",
    " \n",
    "    return largest_area, largest_contour_index"
   ]
  },
  {
   "cell_type": "code",
   "execution_count": 23,
   "id": "a4053965-25fe-46e6-9a2a-966ca16e9d96",
   "metadata": {},
   "outputs": [
    {
     "name": "stdout",
     "output_type": "stream",
     "text": [
      "216003.0\n",
      "15\n",
      "54\n",
      "787\n",
      "144\n"
     ]
    }
   ],
   "source": [
    "# Чтобы получить центр контура \n",
    "cnt = contours[13]\n",
    "M = cv2.moments(cnt)\n",
    "cX = int(M[\"m10\"] / M[\"m00\"])\n",
    "cY = int(M[\"m01\"] / M[\"m00\"])\n",
    "largest_area, largest_contour_index = findGreatesContour(contours)\n",
    "print(largest_area)\n",
    "print(largest_contour_index)\n",
    "print(len(contours))\n",
    "print(cX)\n",
    "print(cY)"
   ]
  },
  {
   "cell_type": "code",
   "execution_count": 57,
   "id": "d013e127-bd1f-425e-8353-7ff9f2966bcd",
   "metadata": {},
   "outputs": [],
   "source": [
    "contours, hierarchy = cv2.findContours(threshold,cv2.RETR_TREE,cv2.CHAIN_APPROX_SIMPLE)\n",
    "cv2.drawContours(image, contours, largest_contour_index, (0, 0, 255), 3)\n",
    "viewImage(image) ## 5"
   ]
  },
  {
   "cell_type": "code",
   "execution_count": 46,
   "id": "f4cc0295-6b3c-4591-9a79-d6c96b510c0c",
   "metadata": {},
   "outputs": [
    {
     "data": {
      "text/plain": [
       "(1223, 1, 2)"
      ]
     },
     "execution_count": 46,
     "metadata": {},
     "output_type": "execute_result"
    }
   ],
   "source": [
    "contours[largest_contour_index].shape"
   ]
  },
  {
   "cell_type": "markdown",
   "id": "3cfe7a3a-4ca6-4f89-af30-26016b7cfa72",
   "metadata": {},
   "source": [
    "## Поиск рыбы клоун"
   ]
  },
  {
   "cell_type": "code",
   "execution_count": 129,
   "id": "1a81a0fd-5947-44e0-9c2d-45e9f50762a9",
   "metadata": {},
   "outputs": [],
   "source": [
    "light_orange =  np.array([1, 190, 150]) # np.array([1, 190, 150])\n",
    "dark_orange =  np.array([30, 255, 255]) # np.array([30, 255, 255])\n",
    "light_white =  np.array([60, 0, 200])   # np.array([60, 0, 200])\n",
    "dark_white =  np.array([145, 150, 255]) # np.array([145, 150, 25])\n",
    "\n",
    "image = cv2.imread('nemo002.jpg')\n",
    "# image  = cv2.medianBlur(image, 5)\n",
    "hsv_img = cv2.cvtColor(image, cv2.COLOR_BGR2HSV)\n",
    "viewImage(image) ## 1\n",
    "\n",
    "\n",
    "mask_orange = cv2.inRange(hsv_img, light_orange, dark_orange)\n",
    "mask_white = cv2.inRange(hsv_img, light_white, dark_white)\n",
    "\n",
    "hsv_img[(mask_orange > 0) | (mask_white > 0)] = ([255, 255, 255])\n",
    "hsv_img[(mask_orange == 0) & (mask_white == 0)] = ([0, 0, 0])\n",
    "viewImage(hsv_img) ## 2\n",
    "\n",
    "kernel_opening = np.ones((5,5),np.uint8)\n",
    "kernel_closing = np.ones((35,35),np.uint8)\n",
    "hsv_img = cv2.morphologyEx(hsv_img, cv2.MORPH_OPEN, kernel_opening)\n",
    "hsv_img = cv2.morphologyEx(hsv_img, cv2.MORPH_CLOSE, kernel_closing)\n",
    "viewImage(hsv_img) ## 2\n",
    "\n",
    "# hsv_img[mask_white > 0] = ([255, 255, 255]) # ([250,255,200])\n",
    "# hsv_img[mask_white == 0] = ([0, 0, 0]) # ([1, 255, 200])\n",
    "# viewImage(hsv_img) ## 3\n",
    "\n",
    "RGB_again = cv2.cvtColor(hsv_img, cv2.COLOR_HSV2RGB)\n",
    "gray = cv2.cvtColor(RGB_again, cv2.COLOR_RGB2GRAY)\n",
    "viewImage(gray) ## 4\n",
    "\n",
    "_, threshold = cv2.threshold(gray, 160, 255, 0)\n",
    "viewImage(threshold) ## 5\n",
    "\n",
    "contours, hierarchy = cv2.findContours(threshold, cv2.RETR_TREE, cv2.CHAIN_APPROX_SIMPLE)\n",
    "cv2.drawContours(image, contours, -1, (0, 0, 255), 3)\n",
    "viewImage(image) ## 6"
   ]
  },
  {
   "cell_type": "code",
   "execution_count": 138,
   "id": "9725be17-2d66-4918-a7b7-03afdb90ec0e",
   "metadata": {},
   "outputs": [
    {
     "data": {
      "text/plain": [
       "array([[ True,  True,  True, ...,  True,  True,  True],\n",
       "       [ True,  True,  True, ...,  True,  True,  True],\n",
       "       [ True,  True,  True, ...,  True,  True,  True],\n",
       "       ...,\n",
       "       [ True,  True,  True, ...,  True,  True,  True],\n",
       "       [ True,  True,  True, ...,  True,  True,  True],\n",
       "       [ True,  True,  True, ...,  True,  True,  True]])"
      ]
     },
     "execution_count": 138,
     "metadata": {},
     "output_type": "execute_result"
    }
   ],
   "source": [
    "hsv_img[:,:,1] == hsv_img[:,:,0]"
   ]
  },
  {
   "cell_type": "code",
   "execution_count": 131,
   "id": "6ba300b3-838b-4d56-a2d4-aceed7ce6d38",
   "metadata": {},
   "outputs": [],
   "source": [
    "my_photo = cv2.imread('nemo005.jpg')\n",
    "median_image  = cv2.medianBlur(my_photo,5)\n",
    "img_grey = cv2.cvtColor(median_image,cv2.COLOR_BGR2GRAY)\n",
    "\n",
    "#set a thresh\n",
    "thresh = 80\n",
    "\n",
    "#get threshold image\n",
    "ret,thresh_img = cv2.threshold(img_grey, thresh, 255, cv2.THRESH_BINARY)\n",
    "\n",
    "#find contours\n",
    "contours, hierarchy = cv2.findContours(thresh_img, cv2.RETR_TREE, cv2.CHAIN_APPROX_SIMPLE)\n",
    "\n",
    "#create an empty image for contours\n",
    "img_contours = np.zeros(my_photo.shape)\n",
    "\n",
    "# draw the contours on the empty image\n",
    "cv2.drawContours(img_contours, contours, -1, (255,255,255), 1)\n",
    "\n",
    "viewImage(img_contours)"
   ]
  },
  {
   "cell_type": "code",
   "execution_count": null,
   "id": "68215760-2717-4fd5-99ca-55039df119b5",
   "metadata": {},
   "outputs": [],
   "source": []
  }
 ],
 "metadata": {
  "kernelspec": {
   "display_name": "Python 3 (ipykernel)",
   "language": "python",
   "name": "python3"
  },
  "language_info": {
   "codemirror_mode": {
    "name": "ipython",
    "version": 3
   },
   "file_extension": ".py",
   "mimetype": "text/x-python",
   "name": "python",
   "nbconvert_exporter": "python",
   "pygments_lexer": "ipython3",
   "version": "3.12.4"
  }
 },
 "nbformat": 4,
 "nbformat_minor": 5
}
